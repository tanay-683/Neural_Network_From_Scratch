{
 "cells": [
  {
   "cell_type": "code",
   "execution_count": 1,
   "metadata": {},
   "outputs": [],
   "source": [
    "import numpy as np\n",
    "# import mercury as mr\n",
    "# import pandas as pd\n"
   ]
  },
  {
   "cell_type": "markdown",
   "metadata": {},
   "source": [
    "done with forward pass but for each layer but \n",
    "- make forward pass in one go\n",
    "- first create backward pass for regression task (mse loss)"
   ]
  },
  {
   "cell_type": "code",
   "execution_count": 21,
   "metadata": {},
   "outputs": [],
   "source": [
    "class Dense:\n",
    "    layers = []\n",
    "    def __call__(self):\n",
    "        return self.activation_output\n",
    "    \n",
    "    \n",
    "    def __init__(self, units:int, activation:str, previous_layer):\n",
    "        self.units = units\n",
    "        self.activation = activation\n",
    "        self.previous_layer = np.array(previous_layer)\n",
    "        \n",
    "        previous_layer_units = self.previous_layer.shape[0]\n",
    "        Dense.layers.append(self)\n",
    "                \n",
    "                \n",
    "        # initializing weights and biases of this layer\n",
    "        self.__weights, self.__biases = self.__initialize_weights_and_biases(previous_layer_units)\n",
    "        \n",
    "        # calculating output-> WiXi + Bo\n",
    "        self.output = np.add(np.dot(self.__weights, self.previous_layer), self.__biases)\n",
    "        \n",
    "        if self.activation.lower() == 'relu':\n",
    "            activation_func = np.vectorize(self.__relu_activation)\n",
    "            self.activation_output = activation_func(self.output).astype(np.float32)\n",
    "            \n",
    "        elif self.activation.lower() == 'sigmoid':\n",
    "            activation_func = np.vectorize(self.__sigmoid_activation)\n",
    "            self.activation_output = activation_func(self.output).astype(np.float32)\n",
    "            \n",
    "        else: # linear\n",
    "            self.activation_output = self.output\n",
    "            \n",
    "        \n",
    "        # print(\"current_layer_units = \",self.units)\n",
    "        # print(\"biases_shape = \",self.__biases.shape)\n",
    "        # print(\"weights_shape = \",self.__weights.shape)\n",
    "        # print(\"previous layer units = \",previous_layer_units)\n",
    "        # print(\"previous layer values = \",self.previous_layer)\n",
    "        # print(\"Output for next layer is =\\n\", self.activation_output)\n",
    "        # print(\"Dtype Output for next layer is =\\n\", self.activation_output.dtype)\n",
    "        \n",
    "    def loss_calc():\n",
    "        pass\n",
    "        \n",
    "    def __initialize_weights_and_biases(self,previous_layer_units:int):\n",
    "#         using `he normal` initialization\n",
    "        biases = np.random.randn(self.units)*np.sqrt(2/previous_layer_units)\n",
    "        weights = np.random.randn(self.units, previous_layer_units)*np.sqrt(2/previous_layer_units)\n",
    "        return weights, biases\n",
    "        \n",
    "        \n",
    "    def __relu_activation(self, layer_output:np.array):\n",
    "        return max(0, layer_output)\n",
    "    \n",
    "    \n",
    "    def __sigmoid_activation(self, layer_output:np.array):\n",
    "        if layer_output>0:\n",
    "            return 1/(1+np.exp(-layer_output)) # 1/(1+e^-z)\n",
    "        else:\n",
    "            return np.exp(layer_output)/(1+np.exp(layer_output)) # e^z / (1+e^z)\n",
    "    "
   ]
  },
  {
   "cell_type": "code",
   "execution_count": 22,
   "metadata": {},
   "outputs": [],
   "source": [
    "input_ = np.random.randn(5)"
   ]
  },
  {
   "cell_type": "code",
   "execution_count": 23,
   "metadata": {},
   "outputs": [],
   "source": [
    "true_output = np.random.binomial(1, 0.5, 1)"
   ]
  },
  {
   "cell_type": "code",
   "execution_count": 24,
   "metadata": {},
   "outputs": [
    {
     "data": {
      "text/plain": [
       "array([1])"
      ]
     },
     "execution_count": 24,
     "metadata": {},
     "output_type": "execute_result"
    }
   ],
   "source": [
    "true_output"
   ]
  },
  {
   "cell_type": "code",
   "execution_count": 25,
   "metadata": {},
   "outputs": [
    {
     "data": {
      "text/plain": [
       "array([-0.85246236,  0.45793525,  0.97560606, -0.29823592,  0.12522522])"
      ]
     },
     "execution_count": 25,
     "metadata": {},
     "output_type": "execute_result"
    }
   ],
   "source": [
    "input_"
   ]
  },
  {
   "cell_type": "code",
   "execution_count": 26,
   "metadata": {},
   "outputs": [],
   "source": [
    "first_layer = Dense(units = 50,activation = \"relu\",previous_layer = input_)"
   ]
  },
  {
   "cell_type": "code",
   "execution_count": 27,
   "metadata": {},
   "outputs": [],
   "source": [
    "second_layer = Dense(5,\"sigmoid\", first_layer())"
   ]
  },
  {
   "cell_type": "code",
   "execution_count": 28,
   "metadata": {},
   "outputs": [],
   "source": [
    "third_layer = Dense(1,\"sigmoid\", second_layer())"
   ]
  },
  {
   "cell_type": "code",
   "execution_count": 29,
   "metadata": {},
   "outputs": [
    {
     "data": {
      "text/plain": [
       "array([0.5061478], dtype=float32)"
      ]
     },
     "execution_count": 29,
     "metadata": {},
     "output_type": "execute_result"
    }
   ],
   "source": [
    "third_layer()"
   ]
  },
  {
   "cell_type": "code",
   "execution_count": 32,
   "metadata": {},
   "outputs": [
    {
     "data": {
      "text/plain": [
       "array([0.5578409 , 0.5102446 , 0.61507595, 0.6243588 , 0.41051963],\n",
       "      dtype=float32)"
      ]
     },
     "execution_count": 32,
     "metadata": {},
     "output_type": "execute_result"
    }
   ],
   "source": [
    "third_layer.previous_layer"
   ]
  },
  {
   "cell_type": "code",
   "execution_count": null,
   "metadata": {},
   "outputs": [],
   "source": []
  }
 ],
 "metadata": {
  "kernelspec": {
   "display_name": "Python 3",
   "language": "python",
   "name": "python3"
  },
  "language_info": {
   "codemirror_mode": {
    "name": "ipython",
    "version": 3
   },
   "file_extension": ".py",
   "mimetype": "text/x-python",
   "name": "python",
   "nbconvert_exporter": "python",
   "pygments_lexer": "ipython3",
   "version": "3.10.12"
  }
 },
 "nbformat": 4,
 "nbformat_minor": 2
}
